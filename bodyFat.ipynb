{
 "cells": [
  {
   "cell_type": "markdown",
   "id": "229e321f",
   "metadata": {},
   "source": [
    "#    BODYFAT PREDICTION"
   ]
  },
  {
   "cell_type": "markdown",
   "id": "0c5873c1",
   "metadata": {},
   "source": [
    "# importing the necessary libraries"
   ]
  },
  {
   "cell_type": "code",
   "execution_count": 1,
   "id": "c3d992ad",
   "metadata": {},
   "outputs": [],
   "source": [
    "import numpy as np\n",
    "import pandas as pd\n",
    "import matplotlib.pyplot as plt\n",
    "import seaborn as sns"
   ]
  },
  {
   "cell_type": "markdown",
   "id": "587e909f",
   "metadata": {},
   "source": [
    "# loading the dataset"
   ]
  },
  {
   "cell_type": "code",
   "execution_count": 2,
   "id": "0d19bd05",
   "metadata": {},
   "outputs": [],
   "source": [
    "data=pd.read_csv(\"bodyfat.csv\")"
   ]
  },
  {
   "cell_type": "code",
   "execution_count": 3,
   "id": "a16cd4cd",
   "metadata": {},
   "outputs": [
    {
     "data": {
      "text/html": [
       "<div>\n",
       "<style scoped>\n",
       "    .dataframe tbody tr th:only-of-type {\n",
       "        vertical-align: middle;\n",
       "    }\n",
       "\n",
       "    .dataframe tbody tr th {\n",
       "        vertical-align: top;\n",
       "    }\n",
       "\n",
       "    .dataframe thead th {\n",
       "        text-align: right;\n",
       "    }\n",
       "</style>\n",
       "<table border=\"1\" class=\"dataframe\">\n",
       "  <thead>\n",
       "    <tr style=\"text-align: right;\">\n",
       "      <th></th>\n",
       "      <th>Density</th>\n",
       "      <th>BodyFat</th>\n",
       "      <th>Age</th>\n",
       "      <th>Weight</th>\n",
       "      <th>Height</th>\n",
       "      <th>Neck</th>\n",
       "      <th>Chest</th>\n",
       "      <th>Abdomen</th>\n",
       "      <th>Hip</th>\n",
       "      <th>Thigh</th>\n",
       "      <th>Knee</th>\n",
       "      <th>Ankle</th>\n",
       "      <th>Biceps</th>\n",
       "      <th>Forearm</th>\n",
       "      <th>Wrist</th>\n",
       "    </tr>\n",
       "  </thead>\n",
       "  <tbody>\n",
       "    <tr>\n",
       "      <th>0</th>\n",
       "      <td>1.0708</td>\n",
       "      <td>12.3</td>\n",
       "      <td>23</td>\n",
       "      <td>154.25</td>\n",
       "      <td>67.75</td>\n",
       "      <td>36.2</td>\n",
       "      <td>93.1</td>\n",
       "      <td>85.2</td>\n",
       "      <td>94.5</td>\n",
       "      <td>59.0</td>\n",
       "      <td>37.3</td>\n",
       "      <td>21.9</td>\n",
       "      <td>32.0</td>\n",
       "      <td>27.4</td>\n",
       "      <td>17.1</td>\n",
       "    </tr>\n",
       "    <tr>\n",
       "      <th>1</th>\n",
       "      <td>1.0853</td>\n",
       "      <td>6.1</td>\n",
       "      <td>22</td>\n",
       "      <td>173.25</td>\n",
       "      <td>72.25</td>\n",
       "      <td>38.5</td>\n",
       "      <td>93.6</td>\n",
       "      <td>83.0</td>\n",
       "      <td>98.7</td>\n",
       "      <td>58.7</td>\n",
       "      <td>37.3</td>\n",
       "      <td>23.4</td>\n",
       "      <td>30.5</td>\n",
       "      <td>28.9</td>\n",
       "      <td>18.2</td>\n",
       "    </tr>\n",
       "    <tr>\n",
       "      <th>2</th>\n",
       "      <td>1.0414</td>\n",
       "      <td>25.3</td>\n",
       "      <td>22</td>\n",
       "      <td>154.00</td>\n",
       "      <td>66.25</td>\n",
       "      <td>34.0</td>\n",
       "      <td>95.8</td>\n",
       "      <td>87.9</td>\n",
       "      <td>99.2</td>\n",
       "      <td>59.6</td>\n",
       "      <td>38.9</td>\n",
       "      <td>24.0</td>\n",
       "      <td>28.8</td>\n",
       "      <td>25.2</td>\n",
       "      <td>16.6</td>\n",
       "    </tr>\n",
       "    <tr>\n",
       "      <th>3</th>\n",
       "      <td>1.0751</td>\n",
       "      <td>10.4</td>\n",
       "      <td>26</td>\n",
       "      <td>184.75</td>\n",
       "      <td>72.25</td>\n",
       "      <td>37.4</td>\n",
       "      <td>101.8</td>\n",
       "      <td>86.4</td>\n",
       "      <td>101.2</td>\n",
       "      <td>60.1</td>\n",
       "      <td>37.3</td>\n",
       "      <td>22.8</td>\n",
       "      <td>32.4</td>\n",
       "      <td>29.4</td>\n",
       "      <td>18.2</td>\n",
       "    </tr>\n",
       "    <tr>\n",
       "      <th>4</th>\n",
       "      <td>1.0340</td>\n",
       "      <td>28.7</td>\n",
       "      <td>24</td>\n",
       "      <td>184.25</td>\n",
       "      <td>71.25</td>\n",
       "      <td>34.4</td>\n",
       "      <td>97.3</td>\n",
       "      <td>100.0</td>\n",
       "      <td>101.9</td>\n",
       "      <td>63.2</td>\n",
       "      <td>42.2</td>\n",
       "      <td>24.0</td>\n",
       "      <td>32.2</td>\n",
       "      <td>27.7</td>\n",
       "      <td>17.7</td>\n",
       "    </tr>\n",
       "  </tbody>\n",
       "</table>\n",
       "</div>"
      ],
      "text/plain": [
       "   Density  BodyFat  Age  Weight  Height  Neck  Chest  Abdomen    Hip  Thigh  \\\n",
       "0   1.0708     12.3   23  154.25   67.75  36.2   93.1     85.2   94.5   59.0   \n",
       "1   1.0853      6.1   22  173.25   72.25  38.5   93.6     83.0   98.7   58.7   \n",
       "2   1.0414     25.3   22  154.00   66.25  34.0   95.8     87.9   99.2   59.6   \n",
       "3   1.0751     10.4   26  184.75   72.25  37.4  101.8     86.4  101.2   60.1   \n",
       "4   1.0340     28.7   24  184.25   71.25  34.4   97.3    100.0  101.9   63.2   \n",
       "\n",
       "   Knee  Ankle  Biceps  Forearm  Wrist  \n",
       "0  37.3   21.9    32.0     27.4   17.1  \n",
       "1  37.3   23.4    30.5     28.9   18.2  \n",
       "2  38.9   24.0    28.8     25.2   16.6  \n",
       "3  37.3   22.8    32.4     29.4   18.2  \n",
       "4  42.2   24.0    32.2     27.7   17.7  "
      ]
     },
     "execution_count": 3,
     "metadata": {},
     "output_type": "execute_result"
    }
   ],
   "source": [
    "data.head()"
   ]
  },
  {
   "cell_type": "code",
   "execution_count": 4,
   "id": "9a948a7b",
   "metadata": {},
   "outputs": [
    {
     "data": {
      "text/html": [
       "<div>\n",
       "<style scoped>\n",
       "    .dataframe tbody tr th:only-of-type {\n",
       "        vertical-align: middle;\n",
       "    }\n",
       "\n",
       "    .dataframe tbody tr th {\n",
       "        vertical-align: top;\n",
       "    }\n",
       "\n",
       "    .dataframe thead th {\n",
       "        text-align: right;\n",
       "    }\n",
       "</style>\n",
       "<table border=\"1\" class=\"dataframe\">\n",
       "  <thead>\n",
       "    <tr style=\"text-align: right;\">\n",
       "      <th></th>\n",
       "      <th>Density</th>\n",
       "      <th>BodyFat</th>\n",
       "      <th>Age</th>\n",
       "      <th>Weight</th>\n",
       "      <th>Height</th>\n",
       "      <th>Neck</th>\n",
       "      <th>Chest</th>\n",
       "      <th>Abdomen</th>\n",
       "      <th>Hip</th>\n",
       "      <th>Thigh</th>\n",
       "      <th>Knee</th>\n",
       "      <th>Ankle</th>\n",
       "      <th>Biceps</th>\n",
       "      <th>Forearm</th>\n",
       "      <th>Wrist</th>\n",
       "    </tr>\n",
       "  </thead>\n",
       "  <tbody>\n",
       "    <tr>\n",
       "      <th>247</th>\n",
       "      <td>1.0736</td>\n",
       "      <td>11.0</td>\n",
       "      <td>70</td>\n",
       "      <td>134.25</td>\n",
       "      <td>67.00</td>\n",
       "      <td>34.9</td>\n",
       "      <td>89.2</td>\n",
       "      <td>83.6</td>\n",
       "      <td>88.8</td>\n",
       "      <td>49.6</td>\n",
       "      <td>34.8</td>\n",
       "      <td>21.5</td>\n",
       "      <td>25.6</td>\n",
       "      <td>25.7</td>\n",
       "      <td>18.5</td>\n",
       "    </tr>\n",
       "    <tr>\n",
       "      <th>248</th>\n",
       "      <td>1.0236</td>\n",
       "      <td>33.6</td>\n",
       "      <td>72</td>\n",
       "      <td>201.00</td>\n",
       "      <td>69.75</td>\n",
       "      <td>40.9</td>\n",
       "      <td>108.5</td>\n",
       "      <td>105.0</td>\n",
       "      <td>104.5</td>\n",
       "      <td>59.6</td>\n",
       "      <td>40.8</td>\n",
       "      <td>23.2</td>\n",
       "      <td>35.2</td>\n",
       "      <td>28.6</td>\n",
       "      <td>20.1</td>\n",
       "    </tr>\n",
       "    <tr>\n",
       "      <th>249</th>\n",
       "      <td>1.0328</td>\n",
       "      <td>29.3</td>\n",
       "      <td>72</td>\n",
       "      <td>186.75</td>\n",
       "      <td>66.00</td>\n",
       "      <td>38.9</td>\n",
       "      <td>111.1</td>\n",
       "      <td>111.5</td>\n",
       "      <td>101.7</td>\n",
       "      <td>60.3</td>\n",
       "      <td>37.3</td>\n",
       "      <td>21.5</td>\n",
       "      <td>31.3</td>\n",
       "      <td>27.2</td>\n",
       "      <td>18.0</td>\n",
       "    </tr>\n",
       "    <tr>\n",
       "      <th>250</th>\n",
       "      <td>1.0399</td>\n",
       "      <td>26.0</td>\n",
       "      <td>72</td>\n",
       "      <td>190.75</td>\n",
       "      <td>70.50</td>\n",
       "      <td>38.9</td>\n",
       "      <td>108.3</td>\n",
       "      <td>101.3</td>\n",
       "      <td>97.8</td>\n",
       "      <td>56.0</td>\n",
       "      <td>41.6</td>\n",
       "      <td>22.7</td>\n",
       "      <td>30.5</td>\n",
       "      <td>29.4</td>\n",
       "      <td>19.8</td>\n",
       "    </tr>\n",
       "    <tr>\n",
       "      <th>251</th>\n",
       "      <td>1.0271</td>\n",
       "      <td>31.9</td>\n",
       "      <td>74</td>\n",
       "      <td>207.50</td>\n",
       "      <td>70.00</td>\n",
       "      <td>40.8</td>\n",
       "      <td>112.4</td>\n",
       "      <td>108.5</td>\n",
       "      <td>107.1</td>\n",
       "      <td>59.3</td>\n",
       "      <td>42.2</td>\n",
       "      <td>24.6</td>\n",
       "      <td>33.7</td>\n",
       "      <td>30.0</td>\n",
       "      <td>20.9</td>\n",
       "    </tr>\n",
       "  </tbody>\n",
       "</table>\n",
       "</div>"
      ],
      "text/plain": [
       "     Density  BodyFat  Age  Weight  Height  Neck  Chest  Abdomen    Hip  \\\n",
       "247   1.0736     11.0   70  134.25   67.00  34.9   89.2     83.6   88.8   \n",
       "248   1.0236     33.6   72  201.00   69.75  40.9  108.5    105.0  104.5   \n",
       "249   1.0328     29.3   72  186.75   66.00  38.9  111.1    111.5  101.7   \n",
       "250   1.0399     26.0   72  190.75   70.50  38.9  108.3    101.3   97.8   \n",
       "251   1.0271     31.9   74  207.50   70.00  40.8  112.4    108.5  107.1   \n",
       "\n",
       "     Thigh  Knee  Ankle  Biceps  Forearm  Wrist  \n",
       "247   49.6  34.8   21.5    25.6     25.7   18.5  \n",
       "248   59.6  40.8   23.2    35.2     28.6   20.1  \n",
       "249   60.3  37.3   21.5    31.3     27.2   18.0  \n",
       "250   56.0  41.6   22.7    30.5     29.4   19.8  \n",
       "251   59.3  42.2   24.6    33.7     30.0   20.9  "
      ]
     },
     "execution_count": 4,
     "metadata": {},
     "output_type": "execute_result"
    }
   ],
   "source": [
    "\n",
    "data.tail()"
   ]
  },
  {
   "cell_type": "code",
   "execution_count": 5,
   "id": "f171f878",
   "metadata": {
    "scrolled": true
   },
   "outputs": [
    {
     "data": {
      "text/html": [
       "<div>\n",
       "<style scoped>\n",
       "    .dataframe tbody tr th:only-of-type {\n",
       "        vertical-align: middle;\n",
       "    }\n",
       "\n",
       "    .dataframe tbody tr th {\n",
       "        vertical-align: top;\n",
       "    }\n",
       "\n",
       "    .dataframe thead th {\n",
       "        text-align: right;\n",
       "    }\n",
       "</style>\n",
       "<table border=\"1\" class=\"dataframe\">\n",
       "  <thead>\n",
       "    <tr style=\"text-align: right;\">\n",
       "      <th></th>\n",
       "      <th>0</th>\n",
       "      <th>1</th>\n",
       "      <th>2</th>\n",
       "      <th>3</th>\n",
       "    </tr>\n",
       "  </thead>\n",
       "  <tbody>\n",
       "    <tr>\n",
       "      <th>Density</th>\n",
       "      <td>1.0708</td>\n",
       "      <td>1.0853</td>\n",
       "      <td>1.0414</td>\n",
       "      <td>1.0751</td>\n",
       "    </tr>\n",
       "    <tr>\n",
       "      <th>BodyFat</th>\n",
       "      <td>12.3000</td>\n",
       "      <td>6.1000</td>\n",
       "      <td>25.3000</td>\n",
       "      <td>10.4000</td>\n",
       "    </tr>\n",
       "    <tr>\n",
       "      <th>Age</th>\n",
       "      <td>23.0000</td>\n",
       "      <td>22.0000</td>\n",
       "      <td>22.0000</td>\n",
       "      <td>26.0000</td>\n",
       "    </tr>\n",
       "    <tr>\n",
       "      <th>Weight</th>\n",
       "      <td>154.2500</td>\n",
       "      <td>173.2500</td>\n",
       "      <td>154.0000</td>\n",
       "      <td>184.7500</td>\n",
       "    </tr>\n",
       "    <tr>\n",
       "      <th>Height</th>\n",
       "      <td>67.7500</td>\n",
       "      <td>72.2500</td>\n",
       "      <td>66.2500</td>\n",
       "      <td>72.2500</td>\n",
       "    </tr>\n",
       "    <tr>\n",
       "      <th>Neck</th>\n",
       "      <td>36.2000</td>\n",
       "      <td>38.5000</td>\n",
       "      <td>34.0000</td>\n",
       "      <td>37.4000</td>\n",
       "    </tr>\n",
       "    <tr>\n",
       "      <th>Chest</th>\n",
       "      <td>93.1000</td>\n",
       "      <td>93.6000</td>\n",
       "      <td>95.8000</td>\n",
       "      <td>101.8000</td>\n",
       "    </tr>\n",
       "    <tr>\n",
       "      <th>Abdomen</th>\n",
       "      <td>85.2000</td>\n",
       "      <td>83.0000</td>\n",
       "      <td>87.9000</td>\n",
       "      <td>86.4000</td>\n",
       "    </tr>\n",
       "    <tr>\n",
       "      <th>Hip</th>\n",
       "      <td>94.5000</td>\n",
       "      <td>98.7000</td>\n",
       "      <td>99.2000</td>\n",
       "      <td>101.2000</td>\n",
       "    </tr>\n",
       "    <tr>\n",
       "      <th>Thigh</th>\n",
       "      <td>59.0000</td>\n",
       "      <td>58.7000</td>\n",
       "      <td>59.6000</td>\n",
       "      <td>60.1000</td>\n",
       "    </tr>\n",
       "    <tr>\n",
       "      <th>Knee</th>\n",
       "      <td>37.3000</td>\n",
       "      <td>37.3000</td>\n",
       "      <td>38.9000</td>\n",
       "      <td>37.3000</td>\n",
       "    </tr>\n",
       "    <tr>\n",
       "      <th>Ankle</th>\n",
       "      <td>21.9000</td>\n",
       "      <td>23.4000</td>\n",
       "      <td>24.0000</td>\n",
       "      <td>22.8000</td>\n",
       "    </tr>\n",
       "    <tr>\n",
       "      <th>Biceps</th>\n",
       "      <td>32.0000</td>\n",
       "      <td>30.5000</td>\n",
       "      <td>28.8000</td>\n",
       "      <td>32.4000</td>\n",
       "    </tr>\n",
       "    <tr>\n",
       "      <th>Forearm</th>\n",
       "      <td>27.4000</td>\n",
       "      <td>28.9000</td>\n",
       "      <td>25.2000</td>\n",
       "      <td>29.4000</td>\n",
       "    </tr>\n",
       "    <tr>\n",
       "      <th>Wrist</th>\n",
       "      <td>17.1000</td>\n",
       "      <td>18.2000</td>\n",
       "      <td>16.6000</td>\n",
       "      <td>18.2000</td>\n",
       "    </tr>\n",
       "  </tbody>\n",
       "</table>\n",
       "</div>"
      ],
      "text/plain": [
       "                0         1         2         3\n",
       "Density    1.0708    1.0853    1.0414    1.0751\n",
       "BodyFat   12.3000    6.1000   25.3000   10.4000\n",
       "Age       23.0000   22.0000   22.0000   26.0000\n",
       "Weight   154.2500  173.2500  154.0000  184.7500\n",
       "Height    67.7500   72.2500   66.2500   72.2500\n",
       "Neck      36.2000   38.5000   34.0000   37.4000\n",
       "Chest     93.1000   93.6000   95.8000  101.8000\n",
       "Abdomen   85.2000   83.0000   87.9000   86.4000\n",
       "Hip       94.5000   98.7000   99.2000  101.2000\n",
       "Thigh     59.0000   58.7000   59.6000   60.1000\n",
       "Knee      37.3000   37.3000   38.9000   37.3000\n",
       "Ankle     21.9000   23.4000   24.0000   22.8000\n",
       "Biceps    32.0000   30.5000   28.8000   32.4000\n",
       "Forearm   27.4000   28.9000   25.2000   29.4000\n",
       "Wrist     17.1000   18.2000   16.6000   18.2000"
      ]
     },
     "execution_count": 5,
     "metadata": {},
     "output_type": "execute_result"
    }
   ],
   "source": [
    "\n",
    "\n",
    "data.head(4).transpose()"
   ]
  },
  {
   "cell_type": "code",
   "execution_count": 6,
   "id": "38f527c4",
   "metadata": {},
   "outputs": [
    {
     "data": {
      "text/plain": [
       "Density    0\n",
       "BodyFat    0\n",
       "Age        0\n",
       "Weight     0\n",
       "Height     0\n",
       "Neck       0\n",
       "Chest      0\n",
       "Abdomen    0\n",
       "Hip        0\n",
       "Thigh      0\n",
       "Knee       0\n",
       "Ankle      0\n",
       "Biceps     0\n",
       "Forearm    0\n",
       "Wrist      0\n",
       "dtype: int64"
      ]
     },
     "execution_count": 6,
     "metadata": {},
     "output_type": "execute_result"
    }
   ],
   "source": [
    "#checking is there any null values\n",
    "data.isna().sum()"
   ]
  },
  {
   "cell_type": "markdown",
   "id": "3f9945ff",
   "metadata": {},
   "source": [
    "\n",
    "\n",
    "# Data description and Exploration"
   ]
  },
  {
   "cell_type": "code",
   "execution_count": 7,
   "id": "b4f309e3",
   "metadata": {},
   "outputs": [
    {
     "name": "stdout",
     "output_type": "stream",
     "text": [
      "<class 'pandas.core.frame.DataFrame'>\n",
      "RangeIndex: 252 entries, 0 to 251\n",
      "Data columns (total 15 columns):\n",
      " #   Column   Non-Null Count  Dtype  \n",
      "---  ------   --------------  -----  \n",
      " 0   Density  252 non-null    float64\n",
      " 1   BodyFat  252 non-null    float64\n",
      " 2   Age      252 non-null    int64  \n",
      " 3   Weight   252 non-null    float64\n",
      " 4   Height   252 non-null    float64\n",
      " 5   Neck     252 non-null    float64\n",
      " 6   Chest    252 non-null    float64\n",
      " 7   Abdomen  252 non-null    float64\n",
      " 8   Hip      252 non-null    float64\n",
      " 9   Thigh    252 non-null    float64\n",
      " 10  Knee     252 non-null    float64\n",
      " 11  Ankle    252 non-null    float64\n",
      " 12  Biceps   252 non-null    float64\n",
      " 13  Forearm  252 non-null    float64\n",
      " 14  Wrist    252 non-null    float64\n",
      "dtypes: float64(14), int64(1)\n",
      "memory usage: 29.7 KB\n"
     ]
    }
   ],
   "source": [
    "data.info()"
   ]
  },
  {
   "cell_type": "code",
   "execution_count": 8,
   "id": "a8be17b9",
   "metadata": {},
   "outputs": [
    {
     "data": {
      "text/html": [
       "<div>\n",
       "<style scoped>\n",
       "    .dataframe tbody tr th:only-of-type {\n",
       "        vertical-align: middle;\n",
       "    }\n",
       "\n",
       "    .dataframe tbody tr th {\n",
       "        vertical-align: top;\n",
       "    }\n",
       "\n",
       "    .dataframe thead th {\n",
       "        text-align: right;\n",
       "    }\n",
       "</style>\n",
       "<table border=\"1\" class=\"dataframe\">\n",
       "  <thead>\n",
       "    <tr style=\"text-align: right;\">\n",
       "      <th></th>\n",
       "      <th>Density</th>\n",
       "      <th>BodyFat</th>\n",
       "      <th>Age</th>\n",
       "      <th>Weight</th>\n",
       "      <th>Height</th>\n",
       "      <th>Neck</th>\n",
       "      <th>Chest</th>\n",
       "      <th>Abdomen</th>\n",
       "      <th>Hip</th>\n",
       "      <th>Thigh</th>\n",
       "      <th>Knee</th>\n",
       "      <th>Ankle</th>\n",
       "      <th>Biceps</th>\n",
       "      <th>Forearm</th>\n",
       "      <th>Wrist</th>\n",
       "    </tr>\n",
       "  </thead>\n",
       "  <tbody>\n",
       "    <tr>\n",
       "      <th>count</th>\n",
       "      <td>252.000000</td>\n",
       "      <td>252.000000</td>\n",
       "      <td>252.000000</td>\n",
       "      <td>252.000000</td>\n",
       "      <td>252.000000</td>\n",
       "      <td>252.000000</td>\n",
       "      <td>252.000000</td>\n",
       "      <td>252.000000</td>\n",
       "      <td>252.000000</td>\n",
       "      <td>252.000000</td>\n",
       "      <td>252.000000</td>\n",
       "      <td>252.000000</td>\n",
       "      <td>252.000000</td>\n",
       "      <td>252.000000</td>\n",
       "      <td>252.000000</td>\n",
       "    </tr>\n",
       "    <tr>\n",
       "      <th>mean</th>\n",
       "      <td>1.055574</td>\n",
       "      <td>19.150794</td>\n",
       "      <td>44.884921</td>\n",
       "      <td>178.924405</td>\n",
       "      <td>70.148810</td>\n",
       "      <td>37.992063</td>\n",
       "      <td>100.824206</td>\n",
       "      <td>92.555952</td>\n",
       "      <td>99.904762</td>\n",
       "      <td>59.405952</td>\n",
       "      <td>38.590476</td>\n",
       "      <td>23.102381</td>\n",
       "      <td>32.273413</td>\n",
       "      <td>28.663889</td>\n",
       "      <td>18.229762</td>\n",
       "    </tr>\n",
       "    <tr>\n",
       "      <th>std</th>\n",
       "      <td>0.019031</td>\n",
       "      <td>8.368740</td>\n",
       "      <td>12.602040</td>\n",
       "      <td>29.389160</td>\n",
       "      <td>3.662856</td>\n",
       "      <td>2.430913</td>\n",
       "      <td>8.430476</td>\n",
       "      <td>10.783077</td>\n",
       "      <td>7.164058</td>\n",
       "      <td>5.249952</td>\n",
       "      <td>2.411805</td>\n",
       "      <td>1.694893</td>\n",
       "      <td>3.021274</td>\n",
       "      <td>2.020691</td>\n",
       "      <td>0.933585</td>\n",
       "    </tr>\n",
       "    <tr>\n",
       "      <th>min</th>\n",
       "      <td>0.995000</td>\n",
       "      <td>0.000000</td>\n",
       "      <td>22.000000</td>\n",
       "      <td>118.500000</td>\n",
       "      <td>29.500000</td>\n",
       "      <td>31.100000</td>\n",
       "      <td>79.300000</td>\n",
       "      <td>69.400000</td>\n",
       "      <td>85.000000</td>\n",
       "      <td>47.200000</td>\n",
       "      <td>33.000000</td>\n",
       "      <td>19.100000</td>\n",
       "      <td>24.800000</td>\n",
       "      <td>21.000000</td>\n",
       "      <td>15.800000</td>\n",
       "    </tr>\n",
       "    <tr>\n",
       "      <th>25%</th>\n",
       "      <td>1.041400</td>\n",
       "      <td>12.475000</td>\n",
       "      <td>35.750000</td>\n",
       "      <td>159.000000</td>\n",
       "      <td>68.250000</td>\n",
       "      <td>36.400000</td>\n",
       "      <td>94.350000</td>\n",
       "      <td>84.575000</td>\n",
       "      <td>95.500000</td>\n",
       "      <td>56.000000</td>\n",
       "      <td>36.975000</td>\n",
       "      <td>22.000000</td>\n",
       "      <td>30.200000</td>\n",
       "      <td>27.300000</td>\n",
       "      <td>17.600000</td>\n",
       "    </tr>\n",
       "    <tr>\n",
       "      <th>50%</th>\n",
       "      <td>1.054900</td>\n",
       "      <td>19.200000</td>\n",
       "      <td>43.000000</td>\n",
       "      <td>176.500000</td>\n",
       "      <td>70.000000</td>\n",
       "      <td>38.000000</td>\n",
       "      <td>99.650000</td>\n",
       "      <td>90.950000</td>\n",
       "      <td>99.300000</td>\n",
       "      <td>59.000000</td>\n",
       "      <td>38.500000</td>\n",
       "      <td>22.800000</td>\n",
       "      <td>32.050000</td>\n",
       "      <td>28.700000</td>\n",
       "      <td>18.300000</td>\n",
       "    </tr>\n",
       "    <tr>\n",
       "      <th>75%</th>\n",
       "      <td>1.070400</td>\n",
       "      <td>25.300000</td>\n",
       "      <td>54.000000</td>\n",
       "      <td>197.000000</td>\n",
       "      <td>72.250000</td>\n",
       "      <td>39.425000</td>\n",
       "      <td>105.375000</td>\n",
       "      <td>99.325000</td>\n",
       "      <td>103.525000</td>\n",
       "      <td>62.350000</td>\n",
       "      <td>39.925000</td>\n",
       "      <td>24.000000</td>\n",
       "      <td>34.325000</td>\n",
       "      <td>30.000000</td>\n",
       "      <td>18.800000</td>\n",
       "    </tr>\n",
       "    <tr>\n",
       "      <th>max</th>\n",
       "      <td>1.108900</td>\n",
       "      <td>47.500000</td>\n",
       "      <td>81.000000</td>\n",
       "      <td>363.150000</td>\n",
       "      <td>77.750000</td>\n",
       "      <td>51.200000</td>\n",
       "      <td>136.200000</td>\n",
       "      <td>148.100000</td>\n",
       "      <td>147.700000</td>\n",
       "      <td>87.300000</td>\n",
       "      <td>49.100000</td>\n",
       "      <td>33.900000</td>\n",
       "      <td>45.000000</td>\n",
       "      <td>34.900000</td>\n",
       "      <td>21.400000</td>\n",
       "    </tr>\n",
       "  </tbody>\n",
       "</table>\n",
       "</div>"
      ],
      "text/plain": [
       "          Density     BodyFat         Age      Weight      Height        Neck  \\\n",
       "count  252.000000  252.000000  252.000000  252.000000  252.000000  252.000000   \n",
       "mean     1.055574   19.150794   44.884921  178.924405   70.148810   37.992063   \n",
       "std      0.019031    8.368740   12.602040   29.389160    3.662856    2.430913   \n",
       "min      0.995000    0.000000   22.000000  118.500000   29.500000   31.100000   \n",
       "25%      1.041400   12.475000   35.750000  159.000000   68.250000   36.400000   \n",
       "50%      1.054900   19.200000   43.000000  176.500000   70.000000   38.000000   \n",
       "75%      1.070400   25.300000   54.000000  197.000000   72.250000   39.425000   \n",
       "max      1.108900   47.500000   81.000000  363.150000   77.750000   51.200000   \n",
       "\n",
       "            Chest     Abdomen         Hip       Thigh        Knee       Ankle  \\\n",
       "count  252.000000  252.000000  252.000000  252.000000  252.000000  252.000000   \n",
       "mean   100.824206   92.555952   99.904762   59.405952   38.590476   23.102381   \n",
       "std      8.430476   10.783077    7.164058    5.249952    2.411805    1.694893   \n",
       "min     79.300000   69.400000   85.000000   47.200000   33.000000   19.100000   \n",
       "25%     94.350000   84.575000   95.500000   56.000000   36.975000   22.000000   \n",
       "50%     99.650000   90.950000   99.300000   59.000000   38.500000   22.800000   \n",
       "75%    105.375000   99.325000  103.525000   62.350000   39.925000   24.000000   \n",
       "max    136.200000  148.100000  147.700000   87.300000   49.100000   33.900000   \n",
       "\n",
       "           Biceps     Forearm       Wrist  \n",
       "count  252.000000  252.000000  252.000000  \n",
       "mean    32.273413   28.663889   18.229762  \n",
       "std      3.021274    2.020691    0.933585  \n",
       "min     24.800000   21.000000   15.800000  \n",
       "25%     30.200000   27.300000   17.600000  \n",
       "50%     32.050000   28.700000   18.300000  \n",
       "75%     34.325000   30.000000   18.800000  \n",
       "max     45.000000   34.900000   21.400000  "
      ]
     },
     "execution_count": 8,
     "metadata": {},
     "output_type": "execute_result"
    }
   ],
   "source": [
    "data.describe()"
   ]
  },
  {
   "cell_type": "code",
   "execution_count": 9,
   "id": "4d0842af",
   "metadata": {},
   "outputs": [
    {
     "data": {
      "text/plain": [
       "(252, 15)"
      ]
     },
     "execution_count": 9,
     "metadata": {},
     "output_type": "execute_result"
    }
   ],
   "source": [
    "data.shape"
   ]
  },
  {
   "cell_type": "code",
   "execution_count": 10,
   "id": "c5c4e019",
   "metadata": {},
   "outputs": [
    {
     "data": {
      "text/plain": [
       "40    17\n",
       "43    13\n",
       "42    12\n",
       "47    11\n",
       "55    10\n",
       "41    10\n",
       "35    10\n",
       "44     9\n",
       "49     9\n",
       "54     8\n",
       "Name: Age, dtype: int64"
      ]
     },
     "execution_count": 10,
     "metadata": {},
     "output_type": "execute_result"
    }
   ],
   "source": [
    "data.Age.value_counts()[:10]"
   ]
  },
  {
   "cell_type": "markdown",
   "id": "140bb772",
   "metadata": {},
   "source": [
    "# Data Visualization"
   ]
  },
  {
   "cell_type": "code",
   "execution_count": 11,
   "id": "37f63ea1",
   "metadata": {},
   "outputs": [
    {
     "data": {
      "image/png": "[encoded data removed]",
      "text/plain": [
       "<Figure size 720x504 with 1 Axes>"
      ]
     },
     "metadata": {
      "needs_background": "light"
     },
     "output_type": "display_data"
    }
   ],
   "source": [
    "data[\"Age\"].value_counts().plot(kind=\"bar\",figsize=(10,7));"
   ]
  },
  {
   "cell_type": "code",
   "execution_count": 12,
   "id": "8f83452a",
   "metadata": {},
   "outputs": [
    {
     "data": {
      "text/plain": [
       "<AxesSubplot:>"
      ]
     },
     "execution_count": 12,
     "metadata": {},
     "output_type": "execute_result"
    },
    {
     "data": {
      "image/png": "[encoded data removed]",
      "text/plain": [
       "<Figure size 432x288 with 1 Axes>"
      ]
     },
     "metadata": {
      "needs_background": "light"
     },
     "output_type": "display_data"
    }
   ],
   "source": [
    "data[\"Weight\"].hist()"
   ]
  },
  {
   "cell_type": "code",
   "execution_count": 13,
   "id": "2709dd20",
   "metadata": {},
   "outputs": [
    {
     "data": {
      "text/plain": [
       "<AxesSubplot:ylabel='Frequency'>"
      ]
     },
     "execution_count": 13,
     "metadata": {},
     "output_type": "execute_result"
    },
    {
     "data": {
      "image/png": "[encoded data removed]",
      "text/plain": [
       "<Figure size 432x288 with 1 Axes>"
      ]
     },
     "metadata": {
      "needs_background": "light"
     },
     "output_type": "display_data"
    }
   ],
   "source": [
    "data[\"BodyFat\"].value_counts().plot(kind=\"hist\")"
   ]
  },
  {
   "cell_type": "code",
   "execution_count": 14,
   "id": "f096080c",
   "metadata": {},
   "outputs": [
    {
     "data": {
      "image/png": "[encoded data removed]",
      "text/plain": [
       "<Figure size 720x720 with 15 Axes>"
      ]
     },
     "metadata": {
      "needs_background": "light"
     },
     "output_type": "display_data"
    }
   ],
   "source": [
    "data.plot.bar(subplots=True,figsize=(10,10));"
   ]
  },
  {
   "cell_type": "code",
   "execution_count": 15,
   "id": "d3a23857",
   "metadata": {},
   "outputs": [
    {
     "data": {
      "text/plain": [
       "<BarContainer object of 252 artists>"
      ]
     },
     "execution_count": 15,
     "metadata": {},
     "output_type": "execute_result"
    },
    {
     "data": {
      "image/png": "[encoded data removed]",
      "text/plain": [
       "<Figure size 432x288 with 1 Axes>"
      ]
     },
     "metadata": {
      "needs_background": "light"
     },
     "output_type": "display_data"
    }
   ],
   "source": [
    "plt.bar(data[\"Age\"],data[\"BodyFat\"])"
   ]
  },
  {
   "cell_type": "code",
   "execution_count": 16,
   "id": "bbc5b0c6",
   "metadata": {},
   "outputs": [
    {
     "data": {
      "text/plain": [
       "<AxesSubplot:>"
      ]
     },
     "execution_count": 16,
     "metadata": {},
     "output_type": "execute_result"
    },
    {
     "data": {
      "image/png": "[encoded data removed]",
      "text/plain": [
       "<Figure size 432x288 with 1 Axes>"
      ]
     },
     "metadata": {
      "needs_background": "light"
     },
     "output_type": "display_data"
    }
   ],
   "source": [
    "data[\"Weight\"].hist()"
   ]
  },
  {
   "cell_type": "code",
   "execution_count": 17,
   "id": "7fe3d3e8",
   "metadata": {},
   "outputs": [],
   "source": [
    " corr_matrix=data.corr()"
   ]
  },
  {
   "cell_type": "code",
   "execution_count": 18,
   "id": "d0b72be3",
   "metadata": {},
   "outputs": [
    {
     "data": {
      "image/png": "[encoded data removed]",
      "text/plain": [
       "<Figure size 1080x720 with 2 Axes>"
      ]
     },
     "metadata": {
      "needs_background": "light"
     },
     "output_type": "display_data"
    }
   ],
   "source": [
    "corr_matrix=data.corr()\n",
    "fig,ax=plt.subplots(figsize=(15,10))\n",
    "ax=sns.heatmap(corr_matrix,\n",
    "              annot=True,\n",
    "              linewidth=0.5,\n",
    "              fmt=\".2f\",cmap=\"YlGnBu\")"
   ]
  },
  {
   "cell_type": "code",
   "execution_count": 19,
   "id": "230cd7d9",
   "metadata": {},
   "outputs": [
    {
     "data": {
      "text/html": [
       "<div>\n",
       "<style scoped>\n",
       "    .dataframe tbody tr th:only-of-type {\n",
       "        vertical-align: middle;\n",
       "    }\n",
       "\n",
       "    .dataframe tbody tr th {\n",
       "        vertical-align: top;\n",
       "    }\n",
       "\n",
       "    .dataframe thead th {\n",
       "        text-align: right;\n",
       "    }\n",
       "</style>\n",
       "<table border=\"1\" class=\"dataframe\">\n",
       "  <thead>\n",
       "    <tr style=\"text-align: right;\">\n",
       "      <th></th>\n",
       "      <th>Density</th>\n",
       "      <th>BodyFat</th>\n",
       "      <th>Age</th>\n",
       "      <th>Weight</th>\n",
       "      <th>Height</th>\n",
       "      <th>Neck</th>\n",
       "      <th>Chest</th>\n",
       "      <th>Abdomen</th>\n",
       "      <th>Hip</th>\n",
       "      <th>Thigh</th>\n",
       "      <th>Knee</th>\n",
       "      <th>Ankle</th>\n",
       "      <th>Biceps</th>\n",
       "      <th>Forearm</th>\n",
       "      <th>Wrist</th>\n",
       "    </tr>\n",
       "  </thead>\n",
       "  <tbody>\n",
       "    <tr>\n",
       "      <th>0</th>\n",
       "      <td>1.0708</td>\n",
       "      <td>12.3</td>\n",
       "      <td>23</td>\n",
       "      <td>154.25</td>\n",
       "      <td>67.75</td>\n",
       "      <td>36.2</td>\n",
       "      <td>93.1</td>\n",
       "      <td>85.2</td>\n",
       "      <td>94.5</td>\n",
       "      <td>59.0</td>\n",
       "      <td>37.3</td>\n",
       "      <td>21.9</td>\n",
       "      <td>32.0</td>\n",
       "      <td>27.4</td>\n",
       "      <td>17.1</td>\n",
       "    </tr>\n",
       "    <tr>\n",
       "      <th>1</th>\n",
       "      <td>1.0853</td>\n",
       "      <td>6.1</td>\n",
       "      <td>22</td>\n",
       "      <td>173.25</td>\n",
       "      <td>72.25</td>\n",
       "      <td>38.5</td>\n",
       "      <td>93.6</td>\n",
       "      <td>83.0</td>\n",
       "      <td>98.7</td>\n",
       "      <td>58.7</td>\n",
       "      <td>37.3</td>\n",
       "      <td>23.4</td>\n",
       "      <td>30.5</td>\n",
       "      <td>28.9</td>\n",
       "      <td>18.2</td>\n",
       "    </tr>\n",
       "    <tr>\n",
       "      <th>2</th>\n",
       "      <td>1.0414</td>\n",
       "      <td>25.3</td>\n",
       "      <td>22</td>\n",
       "      <td>154.00</td>\n",
       "      <td>66.25</td>\n",
       "      <td>34.0</td>\n",
       "      <td>95.8</td>\n",
       "      <td>87.9</td>\n",
       "      <td>99.2</td>\n",
       "      <td>59.6</td>\n",
       "      <td>38.9</td>\n",
       "      <td>24.0</td>\n",
       "      <td>28.8</td>\n",
       "      <td>25.2</td>\n",
       "      <td>16.6</td>\n",
       "    </tr>\n",
       "    <tr>\n",
       "      <th>3</th>\n",
       "      <td>1.0751</td>\n",
       "      <td>10.4</td>\n",
       "      <td>26</td>\n",
       "      <td>184.75</td>\n",
       "      <td>72.25</td>\n",
       "      <td>37.4</td>\n",
       "      <td>101.8</td>\n",
       "      <td>86.4</td>\n",
       "      <td>101.2</td>\n",
       "      <td>60.1</td>\n",
       "      <td>37.3</td>\n",
       "      <td>22.8</td>\n",
       "      <td>32.4</td>\n",
       "      <td>29.4</td>\n",
       "      <td>18.2</td>\n",
       "    </tr>\n",
       "    <tr>\n",
       "      <th>4</th>\n",
       "      <td>1.0340</td>\n",
       "      <td>28.7</td>\n",
       "      <td>24</td>\n",
       "      <td>184.25</td>\n",
       "      <td>71.25</td>\n",
       "      <td>34.4</td>\n",
       "      <td>97.3</td>\n",
       "      <td>100.0</td>\n",
       "      <td>101.9</td>\n",
       "      <td>63.2</td>\n",
       "      <td>42.2</td>\n",
       "      <td>24.0</td>\n",
       "      <td>32.2</td>\n",
       "      <td>27.7</td>\n",
       "      <td>17.7</td>\n",
       "    </tr>\n",
       "  </tbody>\n",
       "</table>\n",
       "</div>"
      ],
      "text/plain": [
       "   Density  BodyFat  Age  Weight  Height  Neck  Chest  Abdomen    Hip  Thigh  \\\n",
       "0   1.0708     12.3   23  154.25   67.75  36.2   93.1     85.2   94.5   59.0   \n",
       "1   1.0853      6.1   22  173.25   72.25  38.5   93.6     83.0   98.7   58.7   \n",
       "2   1.0414     25.3   22  154.00   66.25  34.0   95.8     87.9   99.2   59.6   \n",
       "3   1.0751     10.4   26  184.75   72.25  37.4  101.8     86.4  101.2   60.1   \n",
       "4   1.0340     28.7   24  184.25   71.25  34.4   97.3    100.0  101.9   63.2   \n",
       "\n",
       "   Knee  Ankle  Biceps  Forearm  Wrist  \n",
       "0  37.3   21.9    32.0     27.4   17.1  \n",
       "1  37.3   23.4    30.5     28.9   18.2  \n",
       "2  38.9   24.0    28.8     25.2   16.6  \n",
       "3  37.3   22.8    32.4     29.4   18.2  \n",
       "4  42.2   24.0    32.2     27.7   17.7  "
      ]
     },
     "execution_count": 19,
     "metadata": {},
     "output_type": "execute_result"
    }
   ],
   "source": [
    "data.head()"
   ]
  },
  {
   "cell_type": "markdown",
   "id": "0f55001f",
   "metadata": {},
   "source": [
    "# dividing into the x and y(features and labels)"
   ]
  },
  {
   "cell_type": "code",
   "execution_count": 20,
   "id": "8bea282e",
   "metadata": {},
   "outputs": [],
   "source": [
    "x=data.drop(\"BodyFat\",axis=1)"
   ]
  },
  {
   "cell_type": "code",
   "execution_count": 21,
   "id": "3bac5155",
   "metadata": {},
   "outputs": [],
   "source": [
    "y=data[\"BodyFat\"]"
   ]
  },
  {
   "cell_type": "code",
   "execution_count": 22,
   "id": "729efb50",
   "metadata": {},
   "outputs": [
    {
     "data": {
      "text/html": [
       "<div>\n",
       "<style scoped>\n",
       "    .dataframe tbody tr th:only-of-type {\n",
       "        vertical-align: middle;\n",
       "    }\n",
       "\n",
       "    .dataframe tbody tr th {\n",
       "        vertical-align: top;\n",
       "    }\n",
       "\n",
       "    .dataframe thead th {\n",
       "        text-align: right;\n",
       "    }\n",
       "</style>\n",
       "<table border=\"1\" class=\"dataframe\">\n",
       "  <thead>\n",
       "    <tr style=\"text-align: right;\">\n",
       "      <th></th>\n",
       "      <th>Density</th>\n",
       "      <th>Age</th>\n",
       "      <th>Weight</th>\n",
       "      <th>Height</th>\n",
       "      <th>Neck</th>\n",
       "      <th>Chest</th>\n",
       "      <th>Abdomen</th>\n",
       "      <th>Hip</th>\n",
       "      <th>Thigh</th>\n",
       "      <th>Knee</th>\n",
       "      <th>Ankle</th>\n",
       "      <th>Biceps</th>\n",
       "      <th>Forearm</th>\n",
       "      <th>Wrist</th>\n",
       "    </tr>\n",
       "  </thead>\n",
       "  <tbody>\n",
       "    <tr>\n",
       "      <th>0</th>\n",
       "      <td>1.0708</td>\n",
       "      <td>23</td>\n",
       "      <td>154.25</td>\n",
       "      <td>67.75</td>\n",
       "      <td>36.2</td>\n",
       "      <td>93.1</td>\n",
       "      <td>85.2</td>\n",
       "      <td>94.5</td>\n",
       "      <td>59.0</td>\n",
       "      <td>37.3</td>\n",
       "      <td>21.9</td>\n",
       "      <td>32.0</td>\n",
       "      <td>27.4</td>\n",
       "      <td>17.1</td>\n",
       "    </tr>\n",
       "    <tr>\n",
       "      <th>1</th>\n",
       "      <td>1.0853</td>\n",
       "      <td>22</td>\n",
       "      <td>173.25</td>\n",
       "      <td>72.25</td>\n",
       "      <td>38.5</td>\n",
       "      <td>93.6</td>\n",
       "      <td>83.0</td>\n",
       "      <td>98.7</td>\n",
       "      <td>58.7</td>\n",
       "      <td>37.3</td>\n",
       "      <td>23.4</td>\n",
       "      <td>30.5</td>\n",
       "      <td>28.9</td>\n",
       "      <td>18.2</td>\n",
       "    </tr>\n",
       "    <tr>\n",
       "      <th>2</th>\n",
       "      <td>1.0414</td>\n",
       "      <td>22</td>\n",
       "      <td>154.00</td>\n",
       "      <td>66.25</td>\n",
       "      <td>34.0</td>\n",
       "      <td>95.8</td>\n",
       "      <td>87.9</td>\n",
       "      <td>99.2</td>\n",
       "      <td>59.6</td>\n",
       "      <td>38.9</td>\n",
       "      <td>24.0</td>\n",
       "      <td>28.8</td>\n",
       "      <td>25.2</td>\n",
       "      <td>16.6</td>\n",
       "    </tr>\n",
       "    <tr>\n",
       "      <th>3</th>\n",
       "      <td>1.0751</td>\n",
       "      <td>26</td>\n",
       "      <td>184.75</td>\n",
       "      <td>72.25</td>\n",
       "      <td>37.4</td>\n",
       "      <td>101.8</td>\n",
       "      <td>86.4</td>\n",
       "      <td>101.2</td>\n",
       "      <td>60.1</td>\n",
       "      <td>37.3</td>\n",
       "      <td>22.8</td>\n",
       "      <td>32.4</td>\n",
       "      <td>29.4</td>\n",
       "      <td>18.2</td>\n",
       "    </tr>\n",
       "    <tr>\n",
       "      <th>4</th>\n",
       "      <td>1.0340</td>\n",
       "      <td>24</td>\n",
       "      <td>184.25</td>\n",
       "      <td>71.25</td>\n",
       "      <td>34.4</td>\n",
       "      <td>97.3</td>\n",
       "      <td>100.0</td>\n",
       "      <td>101.9</td>\n",
       "      <td>63.2</td>\n",
       "      <td>42.2</td>\n",
       "      <td>24.0</td>\n",
       "      <td>32.2</td>\n",
       "      <td>27.7</td>\n",
       "      <td>17.7</td>\n",
       "    </tr>\n",
       "  </tbody>\n",
       "</table>\n",
       "</div>"
      ],
      "text/plain": [
       "   Density  Age  Weight  Height  Neck  Chest  Abdomen    Hip  Thigh  Knee  \\\n",
       "0   1.0708   23  154.25   67.75  36.2   93.1     85.2   94.5   59.0  37.3   \n",
       "1   1.0853   22  173.25   72.25  38.5   93.6     83.0   98.7   58.7  37.3   \n",
       "2   1.0414   22  154.00   66.25  34.0   95.8     87.9   99.2   59.6  38.9   \n",
       "3   1.0751   26  184.75   72.25  37.4  101.8     86.4  101.2   60.1  37.3   \n",
       "4   1.0340   24  184.25   71.25  34.4   97.3    100.0  101.9   63.2  42.2   \n",
       "\n",
       "   Ankle  Biceps  Forearm  Wrist  \n",
       "0   21.9    32.0     27.4   17.1  \n",
       "1   23.4    30.5     28.9   18.2  \n",
       "2   24.0    28.8     25.2   16.6  \n",
       "3   22.8    32.4     29.4   18.2  \n",
       "4   24.0    32.2     27.7   17.7  "
      ]
     },
     "execution_count": 22,
     "metadata": {},
     "output_type": "execute_result"
    }
   ],
   "source": [
    "x.head()"
   ]
  },
  {
   "cell_type": "code",
   "execution_count": 23,
   "id": "e6987f91",
   "metadata": {},
   "outputs": [
    {
     "data": {
      "text/plain": [
       "(252, 14)"
      ]
     },
     "execution_count": 23,
     "metadata": {},
     "output_type": "execute_result"
    }
   ],
   "source": [
    "x.shape"
   ]
  },
  {
   "cell_type": "code",
   "execution_count": 24,
   "id": "8fb31fde",
   "metadata": {},
   "outputs": [
    {
     "data": {
      "text/plain": [
       "0    12.3\n",
       "1     6.1\n",
       "2    25.3\n",
       "3    10.4\n",
       "4    28.7\n",
       "Name: BodyFat, dtype: float64"
      ]
     },
     "execution_count": 24,
     "metadata": {},
     "output_type": "execute_result"
    }
   ],
   "source": [
    "y.head()"
   ]
  },
  {
   "cell_type": "code",
   "execution_count": 25,
   "id": "fb5408f0",
   "metadata": {},
   "outputs": [],
   "source": [
    "#dividing the data into the training and testing split\n"
   ]
  },
  {
   "cell_type": "code",
   "execution_count": 26,
   "id": "b5f0fe7d",
   "metadata": {},
   "outputs": [],
   "source": [
    "from sklearn.model_selection import train_test_split\n",
    "x_train,x_test,y_train,y_test=train_test_split(x,y,\n",
    "                                              test_size=0.2,\n",
    "                                              random_state=42)"
   ]
  },
  {
   "cell_type": "code",
   "execution_count": 27,
   "id": "e0dce69f",
   "metadata": {},
   "outputs": [
    {
     "data": {
      "text/plain": [
       "((201, 14), (51, 14))"
      ]
     },
     "execution_count": 27,
     "metadata": {},
     "output_type": "execute_result"
    }
   ],
   "source": [
    "x_train.shape,x_test.shape"
   ]
  },
  {
   "cell_type": "code",
   "execution_count": 28,
   "id": "c5a22206",
   "metadata": {},
   "outputs": [
    {
     "data": {
      "text/plain": [
       "((201,), (51,))"
      ]
     },
     "execution_count": 28,
     "metadata": {},
     "output_type": "execute_result"
    }
   ],
   "source": [
    "y_train.shape,y_test.shape"
   ]
  },
  {
   "cell_type": "markdown",
   "id": "855b86c8",
   "metadata": {},
   "source": [
    "# At present we are working with the bodyfat prediction,it is a regression problem . In these we are using some of the Regression models to find the patterns in our data"
   ]
  },
  {
   "cell_type": "code",
   "execution_count": 29,
   "id": "be9744ec",
   "metadata": {},
   "outputs": [],
   "source": [
    "from sklearn.linear_model import LinearRegression\n"
   ]
  },
  {
   "cell_type": "code",
   "execution_count": 30,
   "id": "e7ad5ca8",
   "metadata": {},
   "outputs": [],
   "source": [
    "model=LinearRegression()"
   ]
  },
  {
   "cell_type": "code",
   "execution_count": 31,
   "id": "bdfce258",
   "metadata": {},
   "outputs": [],
   "source": [
    "#importing the Evolution metrics in the Regression problem"
   ]
  },
  {
   "cell_type": "code",
   "execution_count": 32,
   "id": "3ca6c77b",
   "metadata": {},
   "outputs": [],
   "source": [
    "from sklearn.metrics import mean_absolute_error,mean_squared_error,r2_score, mean_squared_log_error"
   ]
  },
  {
   "cell_type": "markdown",
   "id": "437bd4b1",
   "metadata": {},
   "source": [
    "# fitting and prediction of the data"
   ]
  },
  {
   "cell_type": "code",
   "execution_count": 33,
   "id": "bb4a2fd6",
   "metadata": {},
   "outputs": [
    {
     "data": {
      "text/html": [
       "<style>#sk-container-id-1 {color: black;background-color: white;}#sk-container-id-1 pre{padding: 0;}#sk-container-id-1 div.sk-toggleable {background-color: white;}#sk-container-id-1 label.sk-toggleable__label {cursor: pointer;display: block;width: 100%;margin-bottom: 0;padding: 0.3em;box-sizing: border-box;text-align: center;}#sk-container-id-1 label.sk-toggleable__label-arrow:before {content: \"▸\";float: left;margin-right: 0.25em;color: #696969;}#sk-container-id-1 label.sk-toggleable__label-arrow:hover:before {color: black;}#sk-container-id-1 div.sk-estimator:hover label.sk-toggleable__label-arrow:before {color: black;}#sk-container-id-1 div.sk-toggleable__content {max-height: 0;max-width: 0;overflow: hidden;text-align: left;background-color: #f0f8ff;}#sk-container-id-1 div.sk-toggleable__content pre {margin: 0.2em;color: black;border-radius: 0.25em;background-color: #f0f8ff;}#sk-container-id-1 input.sk-toggleable__control:checked~div.sk-toggleable__content {max-height: 200px;max-width: 100%;overflow: auto;}#sk-container-id-1 input.sk-toggleable__control:checked~label.sk-toggleable__label-arrow:before {content: \"▾\";}#sk-container-id-1 div.sk-estimator input.sk-toggleable__control:checked~label.sk-toggleable__label {background-color: #d4ebff;}#sk-container-id-1 div.sk-label input.sk-toggleable__control:checked~label.sk-toggleable__label {background-color: #d4ebff;}#sk-container-id-1 input.sk-hidden--visually {border: 0;clip: rect(1px 1px 1px 1px);clip: rect(1px, 1px, 1px, 1px);height: 1px;margin: -1px;overflow: hidden;padding: 0;position: absolute;width: 1px;}#sk-container-id-1 div.sk-estimator {font-family: monospace;background-color: #f0f8ff;border: 1px dotted black;border-radius: 0.25em;box-sizing: border-box;margin-bottom: 0.5em;}#sk-container-id-1 div.sk-estimator:hover {background-color: #d4ebff;}#sk-container-id-1 div.sk-parallel-item::after {content: \"\";width: 100%;border-bottom: 1px solid gray;flex-grow: 1;}#sk-container-id-1 div.sk-label:hover label.sk-toggleable__label {background-color: #d4ebff;}#sk-container-id-1 div.sk-serial::before {content: \"\";position: absolute;border-left: 1px solid gray;box-sizing: border-box;top: 0;bottom: 0;left: 50%;z-index: 0;}#sk-container-id-1 div.sk-serial {display: flex;flex-direction: column;align-items: center;background-color: white;padding-right: 0.2em;padding-left: 0.2em;position: relative;}#sk-container-id-1 div.sk-item {position: relative;z-index: 1;}#sk-container-id-1 div.sk-parallel {display: flex;align-items: stretch;justify-content: center;background-color: white;position: relative;}#sk-container-id-1 div.sk-item::before, #sk-container-id-1 div.sk-parallel-item::before {content: \"\";position: absolute;border-left: 1px solid gray;box-sizing: border-box;top: 0;bottom: 0;left: 50%;z-index: -1;}#sk-container-id-1 div.sk-parallel-item {display: flex;flex-direction: column;z-index: 1;position: relative;background-color: white;}#sk-container-id-1 div.sk-parallel-item:first-child::after {align-self: flex-end;width: 50%;}#sk-container-id-1 div.sk-parallel-item:last-child::after {align-self: flex-start;width: 50%;}#sk-container-id-1 div.sk-parallel-item:only-child::after {width: 0;}#sk-container-id-1 div.sk-dashed-wrapped {border: 1px dashed gray;margin: 0 0.4em 0.5em 0.4em;box-sizing: border-box;padding-bottom: 0.4em;background-color: white;}#sk-container-id-1 div.sk-label label {font-family: monospace;font-weight: bold;display: inline-block;line-height: 1.2em;}#sk-container-id-1 div.sk-label-container {text-align: center;}#sk-container-id-1 div.sk-container {/* jupyter's `normalize.less` sets `[hidden] { display: none; }` but bootstrap.min.css set `[hidden] { display: none !important; }` so we also need the `!important` here to be able to override the default hidden behavior on the sphinx rendered scikit-learn.org. See: https://github.com/scikit-learn/scikit-learn/issues/21755 */display: inline-block !important;position: relative;}#sk-container-id-1 div.sk-text-repr-fallback {display: none;}</style><div id=\"sk-container-id-1\" class=\"sk-top-container\"><div class=\"sk-text-repr-fallback\"><pre>LinearRegression()</pre><b>In a Jupyter environment, please rerun this cell to show the HTML representation or trust the notebook. <br />On GitHub, the HTML representation is unable to render, please try loading this page with nbviewer.org.</b></div><div class=\"sk-container\" hidden><div class=\"sk-item\"><div class=\"sk-estimator sk-toggleable\"><input class=\"sk-toggleable__control sk-hidden--visually\" id=\"sk-estimator-id-1\" type=\"checkbox\" checked><label for=\"sk-estimator-id-1\" class=\"sk-toggleable__label sk-toggleable__label-arrow\">LinearRegression</label><div class=\"sk-toggleable__content\"><pre>LinearRegression()</pre></div></div></div></div></div>"
      ],
      "text/plain": [
       "LinearRegression()"
      ]
     },
     "execution_count": 33,
     "metadata": {},
     "output_type": "execute_result"
    }
   ],
   "source": [
    "model.fit(x_train,y_train)"
   ]
  },
  {
   "cell_type": "code",
   "execution_count": 34,
   "id": "8f030235",
   "metadata": {},
   "outputs": [],
   "source": [
    "y_pred=model.predict(x_test)"
   ]
  },
  {
   "cell_type": "code",
   "execution_count": 35,
   "id": "f1cba112",
   "metadata": {},
   "outputs": [
    {
     "data": {
      "text/plain": [
       "array([19.59271786, 19.25132993, 27.5144811 , 20.49439227, 16.62347702,\n",
       "       12.17832488, 22.45754518, 19.26046146, 11.81135483, 11.10082685,\n",
       "       26.85123999, 24.7617182 , 15.37475212, 21.96096162,  6.73347306,\n",
       "        5.2588979 , 21.13246408, 20.57942826, 20.60613753, 13.43160201,\n",
       "       15.53802907, 17.30504659, 14.39780296, 13.75902534, 21.76987988,\n",
       "       31.12268478, 24.38257394, 15.37910829,  7.28231284, 13.51538464,\n",
       "       24.70795737, 10.58862512, 17.73370341, 19.27767267, 19.24523265,\n",
       "        3.92063302, 21.2668048 , 16.06664544, 17.1432712 , 11.54703246,\n",
       "       14.07144086, 23.99771079, 30.16706348,  9.18108694, 13.93485457,\n",
       "       22.05598086, 28.20279151, 21.09188923, 23.19649365,  9.86485442,\n",
       "       37.64293994])"
      ]
     },
     "execution_count": 35,
     "metadata": {},
     "output_type": "execute_result"
    }
   ],
   "source": [
    "y_pred"
   ]
  },
  {
   "cell_type": "code",
   "execution_count": 36,
   "id": "8935fee3",
   "metadata": {},
   "outputs": [],
   "source": [
    "r2=r2_score(y_test,y_pred)"
   ]
  },
  {
   "cell_type": "code",
   "execution_count": 37,
   "id": "e8866726",
   "metadata": {},
   "outputs": [
    {
     "data": {
      "text/plain": [
       "0.9918244198502362"
      ]
     },
     "execution_count": 37,
     "metadata": {},
     "output_type": "execute_result"
    }
   ],
   "source": [
    "r2"
   ]
  },
  {
   "cell_type": "code",
   "execution_count": 38,
   "id": "3d7d08ec",
   "metadata": {},
   "outputs": [],
   "source": [
    "mae=mean_absolute_error(y_test,y_pred)"
   ]
  },
  {
   "cell_type": "code",
   "execution_count": 39,
   "id": "8758b02e",
   "metadata": {},
   "outputs": [
    {
     "data": {
      "text/plain": [
       "0.45953080513041816"
      ]
     },
     "execution_count": 39,
     "metadata": {},
     "output_type": "execute_result"
    }
   ],
   "source": [
    "mae"
   ]
  },
  {
   "cell_type": "code",
   "execution_count": 40,
   "id": "d7f60fe2",
   "metadata": {},
   "outputs": [],
   "source": [
    "mse=mean_squared_error(y_test,y_pred)"
   ]
  },
  {
   "cell_type": "code",
   "execution_count": 41,
   "id": "c63eeafe",
   "metadata": {},
   "outputs": [
    {
     "data": {
      "text/plain": [
       "0.3803122094772995"
      ]
     },
     "execution_count": 41,
     "metadata": {},
     "output_type": "execute_result"
    }
   ],
   "source": [
    "mse"
   ]
  },
  {
   "cell_type": "code",
   "execution_count": 42,
   "id": "9bf904c8",
   "metadata": {},
   "outputs": [],
   "source": [
    "msle=mean_squared_log_error(y_test,y_pred)"
   ]
  },
  {
   "cell_type": "code",
   "execution_count": 43,
   "id": "e800edf8",
   "metadata": {},
   "outputs": [
    {
     "data": {
      "text/plain": [
       "0.0009468607402544901"
      ]
     },
     "execution_count": 43,
     "metadata": {},
     "output_type": "execute_result"
    }
   ],
   "source": [
    "msle"
   ]
  },
  {
   "cell_type": "code",
   "execution_count": 44,
   "id": "bb467401",
   "metadata": {},
   "outputs": [
    {
     "data": {
      "text/plain": [
       "0.9918244198502362"
      ]
     },
     "execution_count": 44,
     "metadata": {},
     "output_type": "execute_result"
    }
   ],
   "source": [
    "model.score(x_test,y_test)"
   ]
  },
  {
   "cell_type": "code",
   "execution_count": 45,
   "id": "6d94462d",
   "metadata": {},
   "outputs": [],
   "source": [
    "#checking with the RandomForest\n",
    "from sklearn.ensemble import RandomForestRegressor"
   ]
  },
  {
   "cell_type": "code",
   "execution_count": 46,
   "id": "64175109",
   "metadata": {},
   "outputs": [],
   "source": [
    "model_2=RandomForestRegressor()"
   ]
  },
  {
   "cell_type": "code",
   "execution_count": 47,
   "id": "5d52ea5f",
   "metadata": {},
   "outputs": [
    {
     "data": {
      "text/html": [
       "<style>#sk-container-id-2 {color: black;background-color: white;}#sk-container-id-2 pre{padding: 0;}#sk-container-id-2 div.sk-toggleable {background-color: white;}#sk-container-id-2 label.sk-toggleable__label {cursor: pointer;display: block;width: 100%;margin-bottom: 0;padding: 0.3em;box-sizing: border-box;text-align: center;}#sk-container-id-2 label.sk-toggleable__label-arrow:before {content: \"▸\";float: left;margin-right: 0.25em;color: #696969;}#sk-container-id-2 label.sk-toggleable__label-arrow:hover:before {color: black;}#sk-container-id-2 div.sk-estimator:hover label.sk-toggleable__label-arrow:before {color: black;}#sk-container-id-2 div.sk-toggleable__content {max-height: 0;max-width: 0;overflow: hidden;text-align: left;background-color: #f0f8ff;}#sk-container-id-2 div.sk-toggleable__content pre {margin: 0.2em;color: black;border-radius: 0.25em;background-color: #f0f8ff;}#sk-container-id-2 input.sk-toggleable__control:checked~div.sk-toggleable__content {max-height: 200px;max-width: 100%;overflow: auto;}#sk-container-id-2 input.sk-toggleable__control:checked~label.sk-toggleable__label-arrow:before {content: \"▾\";}#sk-container-id-2 div.sk-estimator input.sk-toggleable__control:checked~label.sk-toggleable__label {background-color: #d4ebff;}#sk-container-id-2 div.sk-label input.sk-toggleable__control:checked~label.sk-toggleable__label {background-color: #d4ebff;}#sk-container-id-2 input.sk-hidden--visually {border: 0;clip: rect(1px 1px 1px 1px);clip: rect(1px, 1px, 1px, 1px);height: 1px;margin: -1px;overflow: hidden;padding: 0;position: absolute;width: 1px;}#sk-container-id-2 div.sk-estimator {font-family: monospace;background-color: #f0f8ff;border: 1px dotted black;border-radius: 0.25em;box-sizing: border-box;margin-bottom: 0.5em;}#sk-container-id-2 div.sk-estimator:hover {background-color: #d4ebff;}#sk-container-id-2 div.sk-parallel-item::after {content: \"\";width: 100%;border-bottom: 1px solid gray;flex-grow: 1;}#sk-container-id-2 div.sk-label:hover label.sk-toggleable__label {background-color: #d4ebff;}#sk-container-id-2 div.sk-serial::before {content: \"\";position: absolute;border-left: 1px solid gray;box-sizing: border-box;top: 0;bottom: 0;left: 50%;z-index: 0;}#sk-container-id-2 div.sk-serial {display: flex;flex-direction: column;align-items: center;background-color: white;padding-right: 0.2em;padding-left: 0.2em;position: relative;}#sk-container-id-2 div.sk-item {position: relative;z-index: 1;}#sk-container-id-2 div.sk-parallel {display: flex;align-items: stretch;justify-content: center;background-color: white;position: relative;}#sk-container-id-2 div.sk-item::before, #sk-container-id-2 div.sk-parallel-item::before {content: \"\";position: absolute;border-left: 1px solid gray;box-sizing: border-box;top: 0;bottom: 0;left: 50%;z-index: -1;}#sk-container-id-2 div.sk-parallel-item {display: flex;flex-direction: column;z-index: 1;position: relative;background-color: white;}#sk-container-id-2 div.sk-parallel-item:first-child::after {align-self: flex-end;width: 50%;}#sk-container-id-2 div.sk-parallel-item:last-child::after {align-self: flex-start;width: 50%;}#sk-container-id-2 div.sk-parallel-item:only-child::after {width: 0;}#sk-container-id-2 div.sk-dashed-wrapped {border: 1px dashed gray;margin: 0 0.4em 0.5em 0.4em;box-sizing: border-box;padding-bottom: 0.4em;background-color: white;}#sk-container-id-2 div.sk-label label {font-family: monospace;font-weight: bold;display: inline-block;line-height: 1.2em;}#sk-container-id-2 div.sk-label-container {text-align: center;}#sk-container-id-2 div.sk-container {/* jupyter's `normalize.less` sets `[hidden] { display: none; }` but bootstrap.min.css set `[hidden] { display: none !important; }` so we also need the `!important` here to be able to override the default hidden behavior on the sphinx rendered scikit-learn.org. See: https://github.com/scikit-learn/scikit-learn/issues/21755 */display: inline-block !important;position: relative;}#sk-container-id-2 div.sk-text-repr-fallback {display: none;}</style><div id=\"sk-container-id-2\" class=\"sk-top-container\"><div class=\"sk-text-repr-fallback\"><pre>RandomForestRegressor()</pre><b>In a Jupyter environment, please rerun this cell to show the HTML representation or trust the notebook. <br />On GitHub, the HTML representation is unable to render, please try loading this page with nbviewer.org.</b></div><div class=\"sk-container\" hidden><div class=\"sk-item\"><div class=\"sk-estimator sk-toggleable\"><input class=\"sk-toggleable__control sk-hidden--visually\" id=\"sk-estimator-id-2\" type=\"checkbox\" checked><label for=\"sk-estimator-id-2\" class=\"sk-toggleable__label sk-toggleable__label-arrow\">RandomForestRegressor</label><div class=\"sk-toggleable__content\"><pre>RandomForestRegressor()</pre></div></div></div></div></div>"
      ],
      "text/plain": [
       "RandomForestRegressor()"
      ]
     },
     "execution_count": 47,
     "metadata": {},
     "output_type": "execute_result"
    }
   ],
   "source": [
    "model_2.fit(x_train,y_train)"
   ]
  },
  {
   "cell_type": "code",
   "execution_count": 48,
   "id": "4fb0f40a",
   "metadata": {},
   "outputs": [],
   "source": [
    "y_pred2=model_2.predict(x_test)"
   ]
  },
  {
   "cell_type": "code",
   "execution_count": 49,
   "id": "156dea3e",
   "metadata": {},
   "outputs": [
    {
     "data": {
      "text/plain": [
       "array([19.203, 19.213, 27.941, 20.39 , 16.66 , 12.419, 22.948, 18.628,\n",
       "       11.743, 11.907])"
      ]
     },
     "execution_count": 49,
     "metadata": {},
     "output_type": "execute_result"
    }
   ],
   "source": [
    "y_pred2[:10]"
   ]
  },
  {
   "cell_type": "code",
   "execution_count": 50,
   "id": "491509ae",
   "metadata": {},
   "outputs": [],
   "source": [
    "r_2=r2_score(y_test,y_pred2)"
   ]
  },
  {
   "cell_type": "code",
   "execution_count": 51,
   "id": "87a43a56",
   "metadata": {},
   "outputs": [
    {
     "data": {
      "text/plain": [
       "0.9989380858641167"
      ]
     },
     "execution_count": 51,
     "metadata": {},
     "output_type": "execute_result"
    }
   ],
   "source": [
    "r_2"
   ]
  },
  {
   "cell_type": "code",
   "execution_count": 52,
   "id": "6e4e43e8",
   "metadata": {},
   "outputs": [],
   "source": [
    "mae_2=mean_absolute_error(y_test,y_pred2)"
   ]
  },
  {
   "cell_type": "code",
   "execution_count": 53,
   "id": "a2eae4c4",
   "metadata": {},
   "outputs": [
    {
     "data": {
      "text/plain": [
       "0.15411764705882217"
      ]
     },
     "execution_count": 53,
     "metadata": {},
     "output_type": "execute_result"
    }
   ],
   "source": [
    "mae_2"
   ]
  },
  {
   "cell_type": "code",
   "execution_count": 54,
   "id": "e029bac1",
   "metadata": {},
   "outputs": [],
   "source": [
    "mse_2=mean_squared_error(y_test,y_pred2)"
   ]
  },
  {
   "cell_type": "code",
   "execution_count": 55,
   "id": "48f5a679",
   "metadata": {},
   "outputs": [
    {
     "data": {
      "text/plain": [
       "0.04939819607843139"
      ]
     },
     "execution_count": 55,
     "metadata": {},
     "output_type": "execute_result"
    }
   ],
   "source": [
    "mse_2"
   ]
  },
  {
   "cell_type": "code",
   "execution_count": 56,
   "id": "d801d639",
   "metadata": {},
   "outputs": [
    {
     "data": {
      "text/plain": [
       "0.9989380858641167"
      ]
     },
     "execution_count": 56,
     "metadata": {},
     "output_type": "execute_result"
    }
   ],
   "source": [
    "model_2.score(x_test,y_test)"
   ]
  }
 ],
 "metadata": {
  "kernelspec": {
   "display_name": "Python 3 (ipykernel)",
   "language": "python",
   "name": "python3"
  },
  "language_info": {
   "codemirror_mode": {
    "name": "ipython",
    "version": 3
   },
   "file_extension": ".py",
   "mimetype": "text/x-python",
   "name": "python",
   "nbconvert_exporter": "python",
   "pygments_lexer": "ipython3",
   "version": "3.9.7"
  }
 },
 "nbformat": 4,
 "nbformat_minor": 5
}
